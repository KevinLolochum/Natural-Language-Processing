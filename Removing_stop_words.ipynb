{
  "nbformat": 4,
  "nbformat_minor": 0,
  "metadata": {
    "colab": {
      "name": "Removing stop words",
      "provenance": [],
      "collapsed_sections": [],
      "authorship_tag": "ABX9TyP6hlkl9N6elFgutBoZqAz7",
      "include_colab_link": true
    },
    "kernelspec": {
      "name": "python3",
      "display_name": "Python 3"
    }
  },
  "cells": [
    {
      "cell_type": "markdown",
      "metadata": {
        "id": "view-in-github",
        "colab_type": "text"
      },
      "source": [
        "<a href=\"https://colab.research.google.com/github/KevinLolochum/Natural-Language-Processing-Daily/blob/main/Removing_stop_words.ipynb\" target=\"_parent\"><img src=\"https://colab.research.google.com/assets/colab-badge.svg\" alt=\"Open In Colab\"/></a>"
      ]
    },
    {
      "cell_type": "code",
      "metadata": {
        "id": "mlgfLoETiJor"
      },
      "source": [
        "import nltk\r\n",
        "from nltk.corpus import stopwords\r\n",
        "nltk.download('stopwords')\r\n",
        "nltk.download('punkt')\r\n",
        "\r\n",
        "doc = '''We’ve concatenated the question and answer_text together, but BERT still needs a way to distinguish them. '''\r\n",
        "stop_words = set(stopwords.words('english'))\r\n",
        "\r\n",
        "def remove_stopwords(text, stopwords):\r\n",
        "  text2 = []\r\n",
        "  for token in nltk.word_tokenize(text):\r\n",
        "    if token not in stopwords:\r\n",
        "      text2.append(token)\r\n",
        "  return \" \".join(text2)\r\n",
        "    \r\n",
        "  "
      ],
      "execution_count": null,
      "outputs": []
    },
    {
      "cell_type": "code",
      "metadata": {
        "colab": {
          "base_uri": "https://localhost:8080/",
          "height": 35
        },
        "id": "fJpdyDDAlP08",
        "outputId": "7b55cf55-50e1-484e-b755-0c0becc0245c"
      },
      "source": [
        "remove_stopwords(doc, stop_words)"
      ],
      "execution_count": 7,
      "outputs": [
        {
          "output_type": "execute_result",
          "data": {
            "application/vnd.google.colaboratory.intrinsic+json": {
              "type": "string"
            },
            "text/plain": [
              "'We ’ concatenated question answer_text together , BERT still needs way distinguish .'"
            ]
          },
          "metadata": {
            "tags": []
          },
          "execution_count": 7
        }
      ]
    }
  ]
}