{
  "nbformat": 4,
  "nbformat_minor": 0,
  "metadata": {
    "colab": {
      "name": "Zero shot learning in GPT and Pegasus",
      "provenance": [],
      "authorship_tag": "ABX9TyMH7/NlbBmKCRaPIAIp1udP",
      "include_colab_link": true
    },
    "kernelspec": {
      "name": "python3",
      "display_name": "Python 3"
    }
  },
  "cells": [
    {
      "cell_type": "markdown",
      "metadata": {
        "id": "view-in-github",
        "colab_type": "text"
      },
      "source": [
        "<a href=\"https://colab.research.google.com/github/KevinLolochum/Natural-Language-Processing-Daily/blob/main/Zero_shot_learning_in_GPT_and_Pegasus.ipynb\" target=\"_parent\"><img src=\"https://colab.research.google.com/assets/colab-badge.svg\" alt=\"Open In Colab\"/></a>"
      ]
    },
    {
      "cell_type": "markdown",
      "metadata": {
        "id": "Wsun-YuLa322"
      },
      "source": [
        "**Zero-Shot learning** \r\n",
        "- Is a machine learning problem setup where at prediction time a learner observes samples that were not available during training.\r\n",
        "- Because the initial pre-training objective had some abilities to generalize, the learner can infer the class of the unobserved class.\r\n",
        "- A computer vision example is when a learner is fed with the image of a horse and a description that a zebra is like a stripped horse.\r\n",
        "- The learner is able to accurately identify a zebra during prediction even though it was not trained to do so.\r\n",
        "- In GPT, the pre-training task is one - **generating the next word**, yet GPT can be fine-tuned for a variety of tasks it was not trained for e.g sentiment analysis.\r\n",
        "- In pegasus the main pretrainig task - **Gap-sentence generation**, yet pesasus can be used for taks such as question answering, summarization etc.\r\n",
        "- If you want to explore zero-shot learning more, check out this papers. \r\n",
        "1. [Zero shot learning with semantic output codes](https://proceedings.neurips.cc/paper/2009/hash/1543843a4723ed2ab08e18053ae6dc5b-Abstract.html)\r\n",
        "2. [Zero-shot learning through cross model transfer](https://proceedings.neurips.cc/paper/2013/hash/2d6cc4b2d139a53512fb8cbb3086ae2e-Abstract.html)\r\n",
        "3. [Zero-shot learning - the good, the bad and the ugly](https://openaccess.thecvf.com/content_cvpr_2017/papers/Xian_Zero-Shot_Learning_-_CVPR_2017_paper.pdf)\r\n",
        "\r\n"
      ]
    }
  ]
}