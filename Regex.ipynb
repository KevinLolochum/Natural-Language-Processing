{
  "nbformat": 4,
  "nbformat_minor": 0,
  "metadata": {
    "colab": {
      "name": "Regex",
      "provenance": [],
      "collapsed_sections": [],
      "authorship_tag": "ABX9TyOsct5z0HWUli97tFCiDQsR",
      "include_colab_link": true
    },
    "kernelspec": {
      "name": "python3",
      "display_name": "Python 3"
    }
  },
  "cells": [
    {
      "cell_type": "markdown",
      "metadata": {
        "id": "view-in-github",
        "colab_type": "text"
      },
      "source": [
        "<a href=\"https://colab.research.google.com/github/KevinLolochum/Natural-Language-Processing-Daily/blob/main/Regex.ipynb\" target=\"_parent\"><img src=\"https://colab.research.google.com/assets/colab-badge.svg\" alt=\"Open In Colab\"/></a>"
      ]
    },
    {
      "cell_type": "markdown",
      "metadata": {
        "id": "JCjyV133Gwa1"
      },
      "source": [
        "**Regular Expressions**\r\n",
        "\r\n",
        "- Regular expressions find and returns a characters in a string that match the given pattern.\r\n",
        "- The are very efficient and important text data as they help negate the need for complicated traversals and string methods."
      ]
    },
    {
      "cell_type": "markdown",
      "metadata": {
        "id": "mkFHgd10AX6R"
      },
      "source": [
        "**Special characters in regex**\r\n",
        "- Characters that specify the wat you want to match"
      ]
    },
    {
      "cell_type": "markdown",
      "metadata": {
        "id": "6vTlUNwbAR_u"
      },
      "source": [
        "- []  _ specifies a set of characters you want to match e.g [xyz] any of [a-d] = [abcd]. ^ means except therefore [^abc] means any character except a, b or c [^0-9] = any non-digit character.\r\n",
        "- **.** Any single character except ('\\n').\r\n",
        "-  ^ - (caret) When is is not inside brackets, used to check if it starts with. ^ab means starts with ab, ^9 starts with nine?\r\n",
        "-  S$ (dollar) matches ends with. matches ends with s.\r\n",
        "-  * Matches zero or more occurrence of pattern to the left. ma(star)n matches mn, man and maaan.\r\n",
        "-  + Matches one or more occurences of pattern to the left. ma(star)n matches man and maaan but not mn.\r\n",
        "-  ? matches zero or one occurence of the pattern to left of it. Ma?n mathces man and mn but not  maaan\r\n",
        "-  {m} single value in brace specifies that exactly m characters should be matched. a{4} means exactly 4 a's to the left.\r\n",
        "-  {} (braces . a{n, m} means at least n and at most m pattern to left of it. a{2,3} matches aab and baaac not ab. [0-9]{2,4} Match at least two digits but and at most four.\r\n",
        "- {m,n}? match m to n characters. e.g a{3,7}? will match 3 a's, will attempt to match as few as possible.\r\n",
        "-  () . Is used to group sub-patterns. (a|b|c)xz will match a pattern containing  a or b or c followed by xz.\r\n",
        "-  \\ . Used to escape all characters including metacharacters. e.g \\+a skips all characters and looks for characters +a in the string. \\d+ skips all characters and reterns digits.\r\n",
        "- | (or). a|b means constains a or b."
      ]
    },
    {
      "cell_type": "markdown",
      "metadata": {
        "id": "hgkJ5Ti6PWbI"
      },
      "source": [
        "**Special sequences**\r\n",
        "\r\n",
        "- **\\A** . Matches if the specified characters are at the beginning of the string. \\Athe matches 'the firm' but not 'in the firm'.\r\n",
        "- **\\b** Matches if the specified characters are at the beginning or the end of a word. \\bzoo matches 'studied zoology' zoo\\b matches 'bazoo'.\r\n",
        "- **\\B** . The opposite of \\b. Matches if the specified characters are not at the beginning or the end of the word.\r\n",
        "- **\\d** matches any decimal digit. equivalent to [0-9]. matches 35KD, does not match LBJ.\r\n",
        "- **\\D** matches non-decimal digit. equivalent to [^0-9] matches Mamba. Does not match 23.\r\n",
        "- **\\s** matches whitespace.\r\n",
        "- **\\S** mathes where a string contains non-whitespace characters. matches 'ak47', does not match whitespace.\r\n",
        "- **\\w** matches alphanumeric characters (digits(including underscore) and aphabets. equivalent to [a-zA-Z0-9_]. Matches 12go, does not match %&^#$!@.\r\n",
        "- **\\W** matches non-alphanumeric characters.\r\n",
        "- **\\Z** matches if the specified characters are at the end of a string. lunch\\Z matches 'it is lunch'.\r\n"
      ]
    },
    {
      "cell_type": "markdown",
      "metadata": {
        "id": "JweZh1sObtxP"
      },
      "source": [
        "**Python regex**\r\n",
        "\r\n",
        "- Regex in python is implemented using the **re** module.\r\n"
      ]
    },
    {
      "cell_type": "code",
      "metadata": {
        "id": "C_mcGxAsANtO"
      },
      "source": [
        "import re"
      ],
      "execution_count": null,
      "outputs": []
    },
    {
      "cell_type": "markdown",
      "metadata": {
        "id": "7KCZ0A4lwG7B"
      },
      "source": [
        "**re functions**"
      ]
    },
    {
      "cell_type": "markdown",
      "metadata": {
        "id": "-yUk-bYewOmA"
      },
      "source": [
        "- *re.findall()* - returns a list of strings containing all the matches"
      ]
    },
    {
      "cell_type": "code",
      "metadata": {
        "colab": {
          "base_uri": "https://localhost:8080/"
        },
        "id": "uAQt-0JGwVz4",
        "outputId": "27e6bb7c-a95a-4f53-e636-d2692d79f21d"
      },
      "source": [
        "string = 'The year 2020 was quite a mess, 2021 looks very similar so far'\r\n",
        "\r\n",
        "result = re.findall('\\d+', string)   \r\n",
        "\r\n",
        "print(result)"
      ],
      "execution_count": null,
      "outputs": [
        {
          "output_type": "stream",
          "text": [
            "['2020', '2021']\n"
          ],
          "name": "stdout"
        }
      ]
    },
    {
      "cell_type": "markdown",
      "metadata": {
        "id": "PEHTlJ5WeovA"
      },
      "source": [
        "- re.finditer() returns a findall object, therefore you can get more information about the patterns unlike in findall."
      ]
    },
    {
      "cell_type": "code",
      "metadata": {
        "colab": {
          "base_uri": "https://localhost:8080/"
        },
        "id": "VgnoFrCke5Kn",
        "outputId": "6ff53fb0-ab6f-4594-f5ab-0c6d00934a34"
      },
      "source": [
        "# Span is match object is discussed later in the page\r\n",
        "# Notice the use of raw string here, very important in regex especially if we want to search '\\'\r\n",
        "string = 'The year 2020 was quite a mess, 2021 looks very similar so far'\r\n",
        "\r\n",
        "result = re.finditer(r'\\d+', string)   \r\n",
        "\r\n",
        "for match in result:\r\n",
        "  print(f'{match.span()}, {match.group(0)}')"
      ],
      "execution_count": null,
      "outputs": [
        {
          "output_type": "stream",
          "text": [
            "(9, 13), 2020\n",
            "(32, 36), 2021\n"
          ],
          "name": "stdout"
        }
      ]
    },
    {
      "cell_type": "markdown",
      "metadata": {
        "id": "d5nhQKsj2LUs"
      },
      "source": [
        "- *re.search()* returns true if a pattern is encountered anywhere in the string. Otherwise returns none. The pattern will be contained in a match object\r\n",
        "- Unlike findall, search returns only the first encunter of pattern."
      ]
    },
    {
      "cell_type": "code",
      "metadata": {
        "colab": {
          "base_uri": "https://localhost:8080/"
        },
        "id": "62hLpSFZ2L4t",
        "outputId": "18bb28ca-8051-4b03-b273-4791b6ba6a47"
      },
      "source": [
        "string = 'Mathematics 1224 is an important part part of machine learning!!!!'\r\n",
        "\r\n",
        "match = re.search('\\w+', string)\r\n",
        "\r\n",
        "if match:\r\n",
        "  print('It is a match')\r\n",
        "else: \r\n",
        "  print('Get paid subscription')\r\n",
        "  "
      ],
      "execution_count": null,
      "outputs": [
        {
          "output_type": "stream",
          "text": [
            "It is a match\n"
          ],
          "name": "stdout"
        }
      ]
    },
    {
      "cell_type": "code",
      "metadata": {
        "colab": {
          "base_uri": "https://localhost:8080/",
          "height": 35
        },
        "id": "vQe6zcSBjqsB",
        "outputId": "916c248b-83f0-465c-bf01-d4e1038f5c6a"
      },
      "source": [
        "match.group()"
      ],
      "execution_count": null,
      "outputs": [
        {
          "output_type": "execute_result",
          "data": {
            "application/vnd.google.colaboratory.intrinsic+json": {
              "type": "string"
            },
            "text/plain": [
              "'Mathematics'"
            ]
          },
          "metadata": {
            "tags": []
          },
          "execution_count": 12
        }
      ]
    },
    {
      "cell_type": "markdown",
      "metadata": {
        "id": "q5HTIAtXwXXz"
      },
      "source": [
        "- *re.split()* - Splits a list of strings and returns a list of stringe where the splits have occured. Can add maxsplit to indicate the maximum number of splits allowed."
      ]
    },
    {
      "cell_type": "code",
      "metadata": {
        "colab": {
          "base_uri": "https://localhost:8080/"
        },
        "id": "Ex-cz8ZJwBr6",
        "outputId": "c6076b17-fadf-4a76-8f63-bc5b785ad887"
      },
      "source": [
        "string = 'When split - it returns multple stings - 1, 2 or more'\r\n",
        "\r\n",
        "result = re.split('-', string)\r\n",
        "\r\n",
        "print(result)"
      ],
      "execution_count": null,
      "outputs": [
        {
          "output_type": "stream",
          "text": [
            "['When split ', ' it returns multple stings ', ' 1, 2 or more']\n"
          ],
          "name": "stdout"
        }
      ]
    },
    {
      "cell_type": "markdown",
      "metadata": {
        "id": "0cFVVoH8yIhr"
      },
      "source": [
        "- *re.sub()* - Returns a string where values in the string are replaced with content of the replace variable."
      ]
    },
    {
      "cell_type": "code",
      "metadata": {
        "colab": {
          "base_uri": "https://localhost:8080/"
        },
        "id": "W2C8Mw5EyoP7",
        "outputId": "3ee53c20-ab3b-4a75-9fcc-f4906580fd20"
      },
      "source": [
        "string = 'When split  it returns multple stings '\r\n",
        "\r\n",
        "newstring = re.sub('\\s', '', string)\r\n",
        "\r\n",
        "print(newstring)\r\n"
      ],
      "execution_count": null,
      "outputs": [
        {
          "output_type": "stream",
          "text": [
            "Whensplititreturnsmultplestings\n"
          ],
          "name": "stdout"
        }
      ]
    },
    {
      "cell_type": "markdown",
      "metadata": {
        "id": "dhdJwV-Eyr64"
      },
      "source": [
        "- *r.subn()* - Similar to re.sub but returns a touple of the string and number of substitutions."
      ]
    },
    {
      "cell_type": "code",
      "metadata": {
        "colab": {
          "base_uri": "https://localhost:8080/"
        },
        "id": "HKTQi12U1IQg",
        "outputId": "da40feb6-7110-482f-eb43-ef8807d837ca"
      },
      "source": [
        "string = 'When split 1234  it returns multple stings '\r\n",
        "\r\n",
        "newstring = re.subn('\\D', '', string)\r\n",
        "\r\n",
        "print(newstring)"
      ],
      "execution_count": null,
      "outputs": [
        {
          "output_type": "stream",
          "text": [
            "('1234', 39)\n"
          ],
          "name": "stdout"
        }
      ]
    },
    {
      "cell_type": "markdown",
      "metadata": {
        "id": "LduVzdwZ1HQR"
      },
      "source": [
        "**Match object**\r\n",
        "\r\n",
        "- Returned by re.search() or re.match() if the is a pattern match.\r\n",
        "- Match object has several functions."
      ]
    },
    {
      "cell_type": "markdown",
      "metadata": {
        "id": "VGcdxIEr3vJK"
      },
      "source": [
        "- *match.group()* returns the part of the string where the match is found.\r\n",
        "- Other functions/methods include *match.start(), match.end(), match.span()*"
      ]
    },
    {
      "cell_type": "code",
      "metadata": {
        "colab": {
          "base_uri": "https://localhost:8080/"
        },
        "id": "pVMKY7pi3uf8",
        "outputId": "01fd6bdf-274f-45eb-f2df-90e689ad619a"
      },
      "source": [
        "# Match from serch\r\n",
        "string = 'Mathematics 1224 is an important part part of machine learning!!!!'\r\n",
        "\r\n",
        "match2 = re.match(r'\\w+', string)\r\n",
        "\r\n",
        "if match2:\r\n",
        "  print(f'{match2.group()} \"spans\" {match2.span()}')"
      ],
      "execution_count": null,
      "outputs": [
        {
          "output_type": "stream",
          "text": [
            "Mathematics \"spans\" (0, 11)\n"
          ],
          "name": "stdout"
        }
      ]
    }
  ]
}