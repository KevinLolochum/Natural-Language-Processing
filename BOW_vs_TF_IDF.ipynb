{
  "nbformat": 4,
  "nbformat_minor": 0,
  "metadata": {
    "colab": {
      "name": "BOW vs TF-IDF",
      "provenance": [],
      "collapsed_sections": [],
      "authorship_tag": "ABX9TyOnNolsvgnzhHMMkHe+uhNd",
      "include_colab_link": true
    },
    "kernelspec": {
      "name": "python3",
      "display_name": "Python 3"
    }
  },
  "cells": [
    {
      "cell_type": "markdown",
      "metadata": {
        "id": "view-in-github",
        "colab_type": "text"
      },
      "source": [
        "<a href=\"https://colab.research.google.com/github/KevinLolochum/Natural-Language-Processing-Daily/blob/main/BOW_vs_TF_IDF.ipynb\" target=\"_parent\"><img src=\"https://colab.research.google.com/assets/colab-badge.svg\" alt=\"Open In Colab\"/></a>"
      ]
    },
    {
      "cell_type": "markdown",
      "metadata": {
        "id": "8XZei4dIW0OX"
      },
      "source": [
        "- **BOW and TFIDF** are both ways of representing/converting text data to numerical data for NLP upstream tasks.\r\n",
        "- The difference is in how important vs non-important words are represented."
      ]
    },
    {
      "cell_type": "markdown",
      "metadata": {
        "id": "6_lpngXcd5Ds"
      },
      "source": [
        "- **Bag of words/Term Frequency (TF)**\n",
        "\n",
        "* Counts the number of word occurence in documents and stores them using a sparse matrix - CountVectorizer for SKlearn. (SKlearn.feature_extraction.text import)\n"
      ]
    },
    {
      "cell_type": "code",
      "metadata": {
        "id": "dM3YNrDhbIKb"
      },
      "source": [
        "Doc = ['This are experimental words for the difference between the concepts',\r\n",
        "       'Documents will be represented by the elements in these lists comparing concepts',\r\n",
        "       'But is production environments you can use the actual documents  without comparing concepts',]"
      ],
      "execution_count": 16,
      "outputs": []
    },
    {
      "cell_type": "code",
      "metadata": {
        "id": "JxRzPcnYSe5o"
      },
      "source": [
        "from sklearn.feature_extraction.text import CountVectorizer\r\n",
        "\r\n",
        "BOW = CountVectorizer()"
      ],
      "execution_count": 6,
      "outputs": []
    },
    {
      "cell_type": "code",
      "metadata": {
        "colab": {
          "base_uri": "https://localhost:8080/"
        },
        "id": "wvqob1INbSwx",
        "outputId": "cd0c1672-bb07-488d-bf73-850693f9ac35"
      },
      "source": [
        "Mat = BOW.fit_transform(Doc)\r\n",
        "print(BOW.get_feature_names())\r\n",
        "print(Mat.toarray())"
      ],
      "execution_count": 17,
      "outputs": [
        {
          "output_type": "stream",
          "text": [
            "['actual', 'are', 'be', 'between', 'but', 'by', 'can', 'comparing', 'concepts', 'difference', 'documents', 'elements', 'environments', 'experimental', 'for', 'in', 'is', 'lists', 'production', 'represented', 'the', 'these', 'this', 'use', 'will', 'without', 'words', 'you']\n",
            "[[0 1 0 1 0 0 0 0 1 1 0 0 0 1 1 0 0 0 0 0 2 0 1 0 0 0 1 0]\n",
            " [0 0 1 0 0 1 0 1 1 0 1 1 0 0 0 1 0 1 0 1 1 1 0 0 1 0 0 0]\n",
            " [1 0 0 0 1 0 1 1 1 0 1 0 1 0 0 0 1 0 1 0 1 0 0 1 0 1 0 1]]\n"
          ],
          "name": "stdout"
        }
      ]
    },
    {
      "cell_type": "markdown",
      "metadata": {
        "id": "Zc1WhSysd4g4"
      },
      "source": [
        "**Term frequency inverse document frequency (TF-IDF)**\n",
        "* Compare the frequency of a word in a document with frequency in other documents. (TfidfVectorizer)\n",
        "* The more a word appears in a document the more important (*term frequency*) it is for that document. \n",
        "* However if it appears in many other documents a lot it is probably not important for any document (*inverse document frequency*).\n",
        "* tf‐idf t, d = tf (t,d) × idf(t)\n",
        "\n",
        "* ![image.png](data:image/png;base64,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)\n",
        "\n",
        "N is the number of documents and nd is the number of documents containing the word.\n",
        "\n",
        "* ![image.png](data:image/png;base64,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)\n",
        "\n",
        "* nd is the number of documents. df document frequency. \n",
        "* Data is Then normalized so that the word with high values means it is important for that document."
      ]
    },
    {
      "cell_type": "code",
      "metadata": {
        "id": "iXTRpc-AUClO"
      },
      "source": [
        "from sklearn.feature_extraction.text import TfidfVectorizer\r\n",
        "\r\n",
        "TFIDF = TfidfVectorizer()"
      ],
      "execution_count": 15,
      "outputs": []
    },
    {
      "cell_type": "code",
      "metadata": {
        "colab": {
          "base_uri": "https://localhost:8080/"
        },
        "id": "cIcvAUbKg1uu",
        "outputId": "19532995-a27e-46e5-a130-e153085a6343"
      },
      "source": [
        "Mat2 = TFIDF.fit_transform(Doc)\r\n",
        "print(TFIDF.get_feature_names())\r\n",
        "print(Mat2.toarray())"
      ],
      "execution_count": 24,
      "outputs": [
        {
          "output_type": "stream",
          "text": [
            "['actual', 'are', 'be', 'between', 'but', 'by', 'can', 'comparing', 'concepts', 'difference', 'documents', 'elements', 'environments', 'experimental', 'for', 'in', 'is', 'lists', 'production', 'represented', 'the', 'these', 'this', 'use', 'will', 'without', 'words', 'you']\n",
            "[[0.         0.33817502 0.         0.33817502 0.         0.\n",
            "  0.         0.         0.19973161 0.33817502 0.         0.\n",
            "  0.         0.33817502 0.33817502 0.         0.         0.\n",
            "  0.         0.         0.39946323 0.         0.33817502 0.\n",
            "  0.         0.         0.33817502 0.        ]\n",
            " [0.         0.         0.31855448 0.         0.         0.31855448\n",
            "  0.         0.2422689  0.18814341 0.         0.2422689  0.31855448\n",
            "  0.         0.         0.         0.31855448 0.         0.31855448\n",
            "  0.         0.31855448 0.18814341 0.31855448 0.         0.\n",
            "  0.31855448 0.         0.         0.        ]\n",
            " [0.30352608 0.         0.         0.         0.30352608 0.\n",
            "  0.30352608 0.23083941 0.17926739 0.         0.23083941 0.\n",
            "  0.30352608 0.         0.         0.         0.30352608 0.\n",
            "  0.30352608 0.         0.17926739 0.         0.         0.30352608\n",
            "  0.         0.30352608 0.         0.30352608]]\n"
          ],
          "name": "stdout"
        }
      ]
    },
    {
      "cell_type": "markdown",
      "metadata": {
        "id": "aewitE7Ekg2k"
      },
      "source": [
        "- As can be seen, the word **concepts** which appears in all three documents (at position 9) is given very a low value of 0.19 in doc one \r\n",
        "- That value decreases in the preceding documents that also contain the word."
      ]
    }
  ]
}