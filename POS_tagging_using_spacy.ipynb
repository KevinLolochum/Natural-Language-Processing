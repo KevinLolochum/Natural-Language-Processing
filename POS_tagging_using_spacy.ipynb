{
  "nbformat": 4,
  "nbformat_minor": 0,
  "metadata": {
    "colab": {
      "name": "POS tagging using spacy",
      "provenance": [],
      "authorship_tag": "ABX9TyOfgGpdhBbX1yFgWnFXIZ3Z",
      "include_colab_link": true
    },
    "kernelspec": {
      "name": "python3",
      "display_name": "Python 3"
    }
  },
  "cells": [
    {
      "cell_type": "markdown",
      "metadata": {
        "id": "view-in-github",
        "colab_type": "text"
      },
      "source": [
        "<a href=\"https://colab.research.google.com/github/KevinLolochum/Natural-Language-Processing/blob/main/POS_tagging_using_spacy.ipynb\" target=\"_parent\"><img src=\"https://colab.research.google.com/assets/colab-badge.svg\" alt=\"Open In Colab\"/></a>"
      ]
    },
    {
      "cell_type": "markdown",
      "metadata": {
        "id": "upcrhthUpDlg"
      },
      "source": [
        " **1. POS-tagging** - Tag the parts of a speech using Spacy.\r\n",
        "\r\n",
        "- Text: The original word text.\r\n",
        "- [Lemma](https://en.wikipedia.org/wiki/Lemma_(morphology)): The base form of the word.\r\n",
        "- POS: The simple UPOS part-of-speech tag.\r\n",
        "- Tag: The detailed part-of-speech tag.\r\n",
        "- Dep: Syntactic dependency, i.e. the relation between tokens.\r\n",
        "- Shape: The word shape – capitalization, punctuation, digits.\r\n",
        "- is alpha: Is the token an alpha character?\r\n",
        "- is stop: Is the token part of a stop list, i.e. the most common words of the language?"
      ]
    },
    {
      "cell_type": "code",
      "metadata": {
        "colab": {
          "base_uri": "https://localhost:8080/"
        },
        "id": "lwC-QJIIo9bU",
        "outputId": "89706523-266b-4f2d-831e-cb636d4b94f4"
      },
      "source": [
        " import spacy\r\n",
        "\r\n",
        " model = spacy.load('en_core_web_sm')\r\n",
        " \r\n",
        " Info = '''MIDS graduates are working around the world to solve social, economic, and health problems and applying their skills at top companies such as Amazon, Apple, Facebook, Microsoft, and Google'''\r\n",
        "\r\n",
        " Doc = model(Info)\r\n",
        "\r\n",
        " for token in Doc:\r\n",
        "   print(token.text, token.lemma_, token.pos_, token.tag_, token.dep_, token.shape_, token.is_alpha, token.is_stop)"
      ],
      "execution_count": 1,
      "outputs": [
        {
          "output_type": "stream",
          "text": [
            "MIDS MIDS PROPN NNP compound XXXX True False\n",
            "graduates graduate NOUN NNS nsubj xxxx True False\n",
            "are be AUX VBP aux xxx True True\n",
            "working work VERB VBG ROOT xxxx True False\n",
            "around around ADP IN prep xxxx True True\n",
            "the the DET DT det xxx True True\n",
            "world world NOUN NN pobj xxxx True False\n",
            "to to PART TO aux xx True True\n",
            "solve solve VERB VB advcl xxxx True False\n",
            "social social ADJ JJ amod xxxx True False\n",
            ", , PUNCT , punct , False False\n",
            "economic economic ADJ JJ conj xxxx True False\n",
            ", , PUNCT , punct , False False\n",
            "and and CCONJ CC cc xxx True True\n",
            "health health NOUN NN conj xxxx True False\n",
            "problems problem NOUN NNS dobj xxxx True False\n",
            "and and CCONJ CC cc xxx True True\n",
            "applying apply VERB VBG conj xxxx True False\n",
            "their -PRON- DET PRP$ poss xxxx True True\n",
            "skills skill NOUN NNS dobj xxxx True False\n",
            "at at ADP IN prep xx True True\n",
            "top top ADJ JJ amod xxx True True\n",
            "companies company NOUN NNS pobj xxxx True False\n",
            "such such ADJ JJ amod xxxx True True\n",
            "as as SCONJ IN prep xx True True\n",
            "Amazon Amazon PROPN NNP pobj Xxxxx True False\n",
            ", , PUNCT , punct , False False\n",
            "Apple Apple PROPN NNP conj Xxxxx True False\n",
            ", , PUNCT , punct , False False\n",
            "Facebook Facebook PROPN NNP conj Xxxxx True False\n",
            ", , PUNCT , punct , False False\n",
            "Microsoft Microsoft PROPN NNP conj Xxxxx True False\n",
            ", , PUNCT , punct , False False\n",
            "and and CCONJ CC cc xxx True True\n",
            "Google Google PROPN NNP conj Xxxxx True False\n"
          ],
          "name": "stdout"
        }
      ]
    }
  ]
}