{
  "nbformat": 4,
  "nbformat_minor": 0,
  "metadata": {
    "colab": {
      "name": "Lemmatisation of text",
      "provenance": [],
      "authorship_tag": "ABX9TyP7Dmp2AFtfIsOrLdlwBxYl",
      "include_colab_link": true
    },
    "kernelspec": {
      "name": "python3",
      "display_name": "Python 3"
    }
  },
  "cells": [
    {
      "cell_type": "markdown",
      "metadata": {
        "id": "view-in-github",
        "colab_type": "text"
      },
      "source": [
        "<a href=\"https://colab.research.google.com/github/KevinLolochum/Natural-Language-Processing-Daily/blob/main/Lemmatisation_of_text.ipynb\" target=\"_parent\"><img src=\"https://colab.research.google.com/assets/colab-badge.svg\" alt=\"Open In Colab\"/></a>"
      ]
    },
    {
      "cell_type": "markdown",
      "metadata": {
        "id": "7Yo1kho7z9ln"
      },
      "source": [
        "- **Lemmantization** is the retrival of the root word from inflected forms of the word.\r\n",
        "- It is important is tasks such as tagging systems, information retrival, SEO etc.\r\n",
        "- e.g if you are searching for tree, it will also return info on trees."
      ]
    },
    {
      "cell_type": "code",
      "metadata": {
        "colab": {
          "base_uri": "https://localhost:8080/",
          "height": 35
        },
        "id": "Yz0U8isvxfx2",
        "outputId": "6965c455-d224-4499-eb21-11c2a35dec52"
      },
      "source": [
        "import spacy\r\n",
        "\r\n",
        "model = spacy.load('en_core_web_sm')\r\n",
        "text = 'This is a sentence to demonstrate the concept. Trees will become trees'\r\n",
        "doc = model(text)\r\n",
        "\r\n",
        "lemanized_text = [token.lemma_ for token in doc]\r\n",
        "\r\n",
        "\" \".join(lemanized_text)"
      ],
      "execution_count": 3,
      "outputs": [
        {
          "output_type": "execute_result",
          "data": {
            "application/vnd.google.colaboratory.intrinsic+json": {
              "type": "string"
            },
            "text/plain": [
              "'this be a sentence to demonstrate the concept . tree will become tree'"
            ]
          },
          "metadata": {
            "tags": []
          },
          "execution_count": 3
        }
      ]
    }
  ]
}