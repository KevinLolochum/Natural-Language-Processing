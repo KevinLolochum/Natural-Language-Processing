{
  "nbformat": 4,
  "nbformat_minor": 0,
  "metadata": {
    "colab": {
      "name": "Sentence tokenization in spacy and NLTK",
      "provenance": [],
      "authorship_tag": "ABX9TyNtIq16sLaow55uVl6oHgHZ",
      "include_colab_link": true
    },
    "kernelspec": {
      "name": "python3",
      "display_name": "Python 3"
    }
  },
  "cells": [
    {
      "cell_type": "markdown",
      "metadata": {
        "id": "view-in-github",
        "colab_type": "text"
      },
      "source": [
        "<a href=\"https://colab.research.google.com/github/KevinLolochum/Natural-Language-Processing-Daily/blob/main/Sentence_tokenization_in_spacy_and_NLTK.ipynb\" target=\"_parent\"><img src=\"https://colab.research.google.com/assets/colab-badge.svg\" alt=\"Open In Colab\"/></a>"
      ]
    },
    {
      "cell_type": "code",
      "metadata": {
        "id": "USJdreHfEJa0"
      },
      "source": [
        "import spacy\r\n",
        "import nltk\r\n",
        "\r\n",
        "# loading the english model\r\n",
        "space = spacy.load('en_core_web_sm')\r\n",
        "\r\n",
        "# You'll have to download punctuation and stopwords to do NLP tasks using nltk.\r\n",
        "nlt = nltk.download('punkt')\r\n",
        "nlt = nltk.download('stopwords')\r\n"
      ],
      "execution_count": null,
      "outputs": []
    },
    {
      "cell_type": "code",
      "metadata": {
        "colab": {
          "base_uri": "https://localhost:8080/"
        },
        "id": "TIi_OVH8Eq9T",
        "outputId": "ea83d78d-f021-4e4f-c87b-47f7f66ac817"
      },
      "source": [
        "sentence = 'Transformers is an NLP training architecture tha was first introduced in 2017'\r\n",
        "\r\n",
        "# NLTK\r\n",
        "tokens = nltk.word_tokenize(sentence, 'english')\r\n",
        "#spacy\r\n",
        "tokens = space(sentence)\r\n",
        "\r\n",
        "for token in tokens:\r\n",
        "  print(token)\r\n"
      ],
      "execution_count": 3,
      "outputs": [
        {
          "output_type": "stream",
          "text": [
            "Transformers\n",
            "is\n",
            "an\n",
            "NLP\n",
            "training\n",
            "architecture\n",
            "tha\n",
            "was\n",
            "first\n",
            "introduced\n",
            "in\n",
            "2017\n"
          ],
          "name": "stdout"
        }
      ]
    }
  ]
}